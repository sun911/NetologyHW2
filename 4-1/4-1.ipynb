{
 "cells": [
  {
   "cell_type": "code",
   "execution_count": 43,
   "metadata": {
    "collapsed": true
   },
   "outputs": [],
   "source": [
    "import pandas as pd\n",
    "import os"
   ]
  },
  {
   "cell_type": "code",
   "execution_count": 52,
   "metadata": {
    "collapsed": true
   },
   "outputs": [],
   "source": [
    "DATA_PATH = 'H:\\\\Python\\\\NetologyHW\\\\4-1\\\\names\\\\'"
   ]
  },
  {
   "cell_type": "code",
   "execution_count": 64,
   "metadata": {
    "collapsed": true
   },
   "outputs": [],
   "source": [
    "def count_top_3(years):\n",
    "    years_load = []\n",
    "    for year in years:\n",
    "        years_load.append(pd.read_csv(\n",
    "            os.path.join(DATA_PATH + \"yob\" + str(year) + \".txt\"),\n",
    "            names=[\"Name\", \"Gender\", \"Count\"]\n",
    "            ))\n",
    "    all_years = pd.concat(years_load).groupby(\"Name\").sum().sort_values(by='Count', ascending=False).head(3).reset_index()\n",
    "    top_3 = list(all_years[\"Name\"])\n",
    "    print(top_3)"
   ]
  },
  {
   "cell_type": "code",
   "execution_count": 83,
   "metadata": {},
   "outputs": [
    {
     "name": "stdout",
     "output_type": "stream",
     "text": [
      "['John', 'William', 'Mary']\n"
     ]
    }
   ],
   "source": [
    "count_top_3([1880])"
   ]
  },
  {
   "cell_type": "code",
   "execution_count": 65,
   "metadata": {},
   "outputs": [
    {
     "name": "stdout",
     "output_type": "stream",
     "text": [
      "['James', 'John', 'Robert']\n"
     ]
    }
   ],
   "source": [
    "count_top_3([1900, 1950, 2000])"
   ]
  },
  {
   "cell_type": "code",
   "execution_count": 82,
   "metadata": {},
   "outputs": [],
   "source": [
    "def count_dynamics(years):\n",
    "    gender_names = {}\n",
    "    male_names = []\n",
    "    female_names = []\n",
    "    for year in years:\n",
    "        result = pd.read_csv(\n",
    "            os.path.join(DATA_PATH + \"yob\" + str(year) + \".txt\"),\n",
    "            names=[\"Name\", \"Gender\", \"Count\"]\n",
    "            )\n",
    "        male_names.append(result[result.Gender == 'M'].Count.sum())\n",
    "        female_names.append(result[result.Gender == 'F'].Count.sum())\n",
    "    gender_names['M'] = male_names \n",
    "    gender_names['F'] = female_names\n",
    "    print(gender_names)"
   ]
  },
  {
   "cell_type": "code",
   "execution_count": 78,
   "metadata": {},
   "outputs": [
    {
     "name": "stdout",
     "output_type": "stream",
     "text": [
      "{'M': [150486, 1790871, 1962744], 'F': [299810, 1713259, 1814922]}\n"
     ]
    }
   ],
   "source": [
    "count_dynamics([1900, 1950, 2000])"
   ]
  },
  {
   "cell_type": "code",
   "execution_count": null,
   "metadata": {},
   "outputs": [],
   "source": []
  }
 ],
 "metadata": {
  "kernelspec": {
   "display_name": "Python 2",
   "language": "python",
   "name": "python2"
  },
  "language_info": {
   "codemirror_mode": {
    "name": "ipython",
    "version": 2
   },
   "file_extension": ".py",
   "mimetype": "text/x-python",
   "name": "python",
   "nbconvert_exporter": "python",
   "pygments_lexer": "ipython2",
   "version": "2.7.6"
  }
 },
 "nbformat": 4,
 "nbformat_minor": 0
}
